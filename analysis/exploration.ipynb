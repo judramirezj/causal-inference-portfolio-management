{
 "cells": [
  {
   "cell_type": "markdown",
   "id": "7bcbf991",
   "metadata": {},
   "source": [
    "Causal-Aware Portfolio Analysis Notebook (Python 3.11)\n",
    "======================================================\n",
    "\n",
    "Usage\n",
    "-----\n",
    "Run each cell top-to-bottom.  The *CONFIG* block is the only place you\n",
    "need to edit when you want to change:\n",
    "\n",
    "* asset universe              →  `TICKERS`\n",
    "* date range                  →  `START`, `END`\n",
    "* return frequency            →  `FREQ` (`'D'`, `'W'`, `'M'`, …)\n",
    "* max lag for the PC algorithm→  `MAX_LAG`\n",
    "* conditional-independence test→  `CI_TEST` (`'pearson'` or `'kernel'`)\n",
    "* risk-aversion               →  `RISK_AVERSION`"
   ]
  },
  {
   "cell_type": "code",
   "execution_count": null,
   "id": "e6be7c54",
   "metadata": {},
   "outputs": [],
   "source": [
    "from __future__ import annotations\n",
    "\n",
    "from dataclasses import dataclass, field\n",
    "from itertools import combinations\n",
    "from pathlib import Path\n",
    "from typing import Iterable, Literal\n",
    "\n",
    "import matplotlib.pyplot as plt\n",
    "import networkx as nx\n",
    "import numpy as np\n",
    "import pandas as pd\n",
    "import seaborn as sns\n",
    "import yfinance as yf\n",
    "from numpy.linalg import pinv\n",
    "from scipy.optimize import minimize\n",
    "from scipy.spatial.distance import pdist, squareform\n",
    "from scipy.stats import pearsonr\n",
    "from sklearn.preprocessing import StandardScaler, scale"
   ]
  },
  {
   "cell_type": "markdown",
   "id": "b23cb325",
   "metadata": {},
   "source": [
    "# Configuration\n",
    "# -------------\n",
    "# Edit values here only."
   ]
  },
  {
   "cell_type": "code",
   "execution_count": 12,
   "id": "d148ad47",
   "metadata": {},
   "outputs": [
    {
     "ename": "NameError",
     "evalue": "name 'field' is not defined",
     "output_type": "error",
     "traceback": [
      "\u001b[31m---------------------------------------------------------------------------\u001b[39m",
      "\u001b[31mNameError\u001b[39m                                 Traceback (most recent call last)",
      "\u001b[36mCell\u001b[39m\u001b[36m \u001b[39m\u001b[32mIn[12]\u001b[39m\u001b[32m, line 2\u001b[39m\n\u001b[32m      1\u001b[39m \u001b[38;5;129;43m@dataclass\u001b[39;49m\u001b[43m(\u001b[49m\u001b[43mslots\u001b[49m\u001b[43m=\u001b[49m\u001b[38;5;28;43;01mTrue\u001b[39;49;00m\u001b[43m)\u001b[49m\n\u001b[32m----> \u001b[39m\u001b[32m2\u001b[39m \u001b[38;5;28;43;01mclass\u001b[39;49;00m\u001b[38;5;250;43m \u001b[39;49m\u001b[34;43;01mConfig\u001b[39;49;00m\u001b[43m:\u001b[49m\n\u001b[32m      3\u001b[39m \u001b[43m    \u001b[49m\u001b[43mTICKERS\u001b[49m\u001b[43m:\u001b[49m\u001b[43m \u001b[49m\u001b[38;5;28;43mlist\u001b[39;49m\u001b[43m[\u001b[49m\u001b[38;5;28;43mstr\u001b[39;49m\u001b[43m]\u001b[49m\u001b[43m \u001b[49m\u001b[43m=\u001b[49m\u001b[43m \u001b[49m\u001b[43mfield\u001b[49m\u001b[43m(\u001b[49m\n\u001b[32m      4\u001b[39m \u001b[43m        \u001b[49m\u001b[43mdefault_factory\u001b[49m\u001b[43m=\u001b[49m\u001b[38;5;28;43;01mlambda\u001b[39;49;00m\u001b[43m:\u001b[49m\u001b[43m \u001b[49m\u001b[33;43m\"\u001b[39;49m\u001b[33;43mAAPL MSFT AMZN SPY ^VIX TLT GLD XLF XLE USO\u001b[39;49m\u001b[33;43m\"\u001b[39;49m\u001b[43m.\u001b[49m\u001b[43msplit\u001b[49m\u001b[43m(\u001b[49m\u001b[43m)\u001b[49m\n\u001b[32m      5\u001b[39m \u001b[43m    \u001b[49m\u001b[43m)\u001b[49m\n\u001b[32m      6\u001b[39m \u001b[43m    \u001b[49m\u001b[43mSTART\u001b[49m\u001b[43m:\u001b[49m\u001b[43m \u001b[49m\u001b[38;5;28;43mstr\u001b[39;49m\u001b[43m \u001b[49m\u001b[43m=\u001b[49m\u001b[43m \u001b[49m\u001b[33;43m\"\u001b[39;49m\u001b[33;43m2020-01-01\u001b[39;49m\u001b[33;43m\"\u001b[39;49m\n",
      "\u001b[36mCell\u001b[39m\u001b[36m \u001b[39m\u001b[32mIn[12]\u001b[39m\u001b[32m, line 3\u001b[39m, in \u001b[36mConfig\u001b[39m\u001b[34m()\u001b[39m\n\u001b[32m      1\u001b[39m \u001b[38;5;129m@dataclass\u001b[39m(slots=\u001b[38;5;28;01mTrue\u001b[39;00m)\n\u001b[32m      2\u001b[39m \u001b[38;5;28;01mclass\u001b[39;00m\u001b[38;5;250m \u001b[39m\u001b[34;01mConfig\u001b[39;00m:\n\u001b[32m----> \u001b[39m\u001b[32m3\u001b[39m     TICKERS: \u001b[38;5;28mlist\u001b[39m[\u001b[38;5;28mstr\u001b[39m] = \u001b[43mfield\u001b[49m(\n\u001b[32m      4\u001b[39m         default_factory=\u001b[38;5;28;01mlambda\u001b[39;00m: \u001b[33m\"\u001b[39m\u001b[33mAAPL MSFT AMZN SPY ^VIX TLT GLD XLF XLE USO\u001b[39m\u001b[33m\"\u001b[39m.split()\n\u001b[32m      5\u001b[39m     )\n\u001b[32m      6\u001b[39m     START: \u001b[38;5;28mstr\u001b[39m = \u001b[33m\"\u001b[39m\u001b[33m2020-01-01\u001b[39m\u001b[33m\"\u001b[39m\n\u001b[32m      7\u001b[39m     END: \u001b[38;5;28mstr\u001b[39m = \u001b[33m\"\u001b[39m\u001b[33m2023-01-01\u001b[39m\u001b[33m\"\u001b[39m\n",
      "\u001b[31mNameError\u001b[39m: name 'field' is not defined"
     ]
    }
   ],
   "source": [
    "@dataclass(slots=True)\n",
    "class Config:\n",
    "    TICKERS: list[str] = field(\n",
    "        default_factory=lambda: \"AAPL MSFT AMZN SPY ^VIX TLT GLD XLF XLE USO\".split()\n",
    "    )\n",
    "    START: str = \"2020-01-01\"\n",
    "    END: str = \"2023-01-01\"\n",
    "    FREQ: Literal[\"D\", \"W\", \"M\"] = \"D\"  # daily / weekly / monthly\n",
    "    MAX_LAG: int = 1\n",
    "    CI_TEST: Literal[\"pearson\", \"kernel\"] = \"pearson\"\n",
    "    ALPHA: float = 0.1\n",
    "    RISK_AVERSION: float = 1.0\n",
    "\n",
    "CFG = Config()\n"
   ]
  }
 ],
 "metadata": {
  "kernelspec": {
   "display_name": ".venv",
   "language": "python",
   "name": "python3"
  },
  "language_info": {
   "codemirror_mode": {
    "name": "ipython",
    "version": 3
   },
   "file_extension": ".py",
   "mimetype": "text/x-python",
   "name": "python",
   "nbconvert_exporter": "python",
   "pygments_lexer": "ipython3",
   "version": "3.11.6"
  }
 },
 "nbformat": 4,
 "nbformat_minor": 5
}
